{
 "cells": [
  {
   "cell_type": "markdown",
   "metadata": {},
   "source": [
    "# San Francisco Rental Prices Dashboard\n",
    "\n",
    "In this notebook, you will compile the visualizations from the previous analysis into functions that can be used for a Panel dashboard."
   ]
  },
  {
   "cell_type": "code",
   "execution_count": 84,
   "metadata": {},
   "outputs": [],
   "source": [
    "# imports\n",
    "import panel as pn\n",
    "pn.extension('plotly')\n",
    "import plotly.express as px\n",
    "import pandas as pd\n",
    "import param\n",
    "import hvplot.pandas\n",
    "import matplotlib.pyplot as plt\n",
    "import os\n",
    "from pathlib import Path\n",
    "from dotenv import load_dotenv\n",
    "import dash\n",
    "import dash_core_components as dcc\n",
    "import dash_html_components as html"
   ]
  },
  {
   "cell_type": "code",
   "execution_count": 85,
   "metadata": {},
   "outputs": [],
   "source": [
    "# Read the Mapbox API key\n",
    "load_dotenv()\n",
    "mapbox_token = os.getenv(\"mapbox\")"
   ]
  },
  {
   "cell_type": "markdown",
   "metadata": {},
   "source": [
    "# Import Data"
   ]
  },
  {
   "cell_type": "code",
   "execution_count": 86,
   "metadata": {},
   "outputs": [],
   "source": [
    "# Import the CSVs to Pandas DataFrames\n",
    "file_path = Path(\"C:/Users/Endalkachew Desta/Downloads/Data/sfo_neighborhoods_census_data.csv\")\n",
    "sfo_data = pd.read_csv(file_path, index_col=\"year\")\n",
    "\n",
    "file_path = Path(\"C:/Users/Endalkachew Desta/Downloads/Data/neighborhoods_coordinates.csv\")\n",
    "df_neighborhood_locations = pd.read_csv(file_path)"
   ]
  },
  {
   "cell_type": "code",
   "execution_count": 88,
   "metadata": {},
   "outputs": [],
   "source": [
    "df = pd.DataFrame(sfo_data)\n",
    "mean_units_per_year = sfo_data['housing_units'].groupby('year').mean()\n",
    "avg_rent_per_sqft_per_year = sfo_data[['sale_price_sqr_foot','gross_rent']].groupby('year').mean()\n",
    "Average_Sales_Price_per_Year = sfo_data[['sale_price_sqr_foot']].groupby('year').mean()\n",
    "avg_sale_price_per_year = sfo_data.groupby(['year','neighborhood']).mean()\n",
    "top_ten_expensive_neighborhood = df.groupby('neighborhood').mean().nlargest(10, 'sale_price_sqr_foot')\n",
    "\n",
    "df2 = pd.DataFrame(top_ten_expensive_neighborhood)\n",
    "df3 = df2.reset_index()"
   ]
  },
  {
   "cell_type": "markdown",
   "metadata": {},
   "source": [
    "- - -"
   ]
  },
  {
   "cell_type": "markdown",
   "metadata": {},
   "source": [
    "## Panel Visualizations\n",
    "\n",
    "In this section, you will copy the code for each plot type from your analysis notebook and place it into separate functions that Panel can use to create panes for the dashboard. \n",
    "\n",
    "These functions will convert the plot object to a Panel pane.\n",
    "\n",
    "Be sure to include any DataFrame transformation/manipulation code required along with the plotting code.\n",
    "\n",
    "Return a Panel pane object from each function that can be used to build the dashboard.\n",
    "\n",
    "Note: Remove any `.show()` lines from the code. We want to return the plots instead of showing them. The Panel dashboard will then display the plots."
   ]
  },
  {
   "cell_type": "code",
   "execution_count": 129,
   "metadata": {},
   "outputs": [],
   "source": [
    "# Define Panel Visualization Functions\n",
    "def housing_units_per_year():\n",
    "    \"\"\"Housing Units Per Year.\"\"\"\n",
    "    \n",
    "    mean_units_per_year = sfo_data['housing_units'].groupby('year').mean()\n",
    "    #mean_units_per_year\n",
    "    \n",
    "    \n",
    "    avg_housing_units = mean_units_per_year.plot(\n",
    "                 title='Housing units in San Francisco from 2010 to 2016', kind='bar',\n",
    "                 grid=True,xlabel = 'year', ylabel = 'Housing units',\n",
    "    )\n",
    "    \n",
    "    return(avg_housing_units)\n",
    "\n",
    "    std_units_per_year = mean_units_per_year.std()\n",
    "    min_units_per_year = (mean_units_per_year.min()-std_units_per_year)\n",
    "    max_units_per_year = mean_units_per_year.max()+std_units_per_year\n",
    "\n",
    "    avg_housing_units_ylim = mean_units_per_year.plot( ylim=(min_units_per_year,max_units_per_year),\n",
    "             title='Housing units in San Francisco from 2010 to 2016', kind='bar',\n",
    "             grid=True, xlabel = 'year', ylabel = 'Housing units',\n",
    "    )\n",
    "    \n",
    "    return(avg_housing_units_ylim)\n",
    "\n",
    "def average_gross_rent():\n",
    "    \"\"\"Average Gross Rent in San Francisco Per Year.\"\"\"\n",
    "    \n",
    "    avg_rent_per_sqft_per_year = sfo_data[['sale_price_sqr_foot','gross_rent']].groupby('year').mean()\n",
    "    #avg_rent_per_sqft_per_year\n",
    "    \n",
    "    avg_rent_per_year = avg_rent_per_sqft_per_year.plot(\n",
    "                y='gross_rent',kind='line',grid=True,title='Gross Rent',xlabel='year',ylabel='Gross Rent')\n",
    "    #avg_rent_per_year\n",
    "    \n",
    "    return(avg_rent_per_year)\n",
    "\n",
    "def average_sales_price():\n",
    "    \"\"\"Average Sales Price Per Year.\"\"\"\n",
    "    \n",
    "    Average_Sales_Price_per_Year = sfo_data[['sale_price_sqr_foot']].groupby('year').mean()\n",
    "    Average_Sales_Price_plot = Average_Sales_Price_per_Year.hvplot.line(\n",
    "               x='year',y='sale_price_sqr_foot',grid=True, title='Average sale price per year')\n",
    "    Average_Sales_Price_plot\n",
    "    \n",
    "    return(Average_Sales_Price_plot)\n",
    "\n",
    "def average_price_by_neighborhood():\n",
    "    \"\"\"Average Prices by Neighborhood.\"\"\"\n",
    "    \n",
    "    avg_sale_price_per_year = sfo_data.groupby(['year','neighborhood']).mean()\n",
    "    #avg_sale_price_per_year\n",
    "    \n",
    "    avg_price_by_neighborhood = avg_sale_price_per_year.hvplot.line(\n",
    "           x='year',y='sale_price_sqr_foot',grid=True,\n",
    "           groupby='neighborhood',title='Avg-price-neighborhood'\n",
    "    )\n",
    "    \n",
    "    return(avg_price_by_neighborhood)\n",
    "\n",
    "def top_most_expensive_neighborhoods():\n",
    "    \"\"\"Top 10 Most Expensive Neighborhoods.\"\"\"\n",
    "    \n",
    "    df = pd.DataFrame(sfo_data)\n",
    "    top_ten_expensive_neighborhood = df.groupby('neighborhood').mean().nlargest(10, 'sale_price_sqr_foot')\n",
    "    #top_ten_expensive_neighborhood\n",
    "    \n",
    "    top_ten_expensive_neighborhood_plot = top_ten_expensive_neighborhood.hvplot.bar(\n",
    "            x='neighborhood',y='sale_price_sqr_foot',rot=75,\n",
    "            xlabel='Neighborhoods',ylabel='Avg sale price per sqft',\n",
    "            title='Top 10 Most Expensive Neighborhoods',grid=True\n",
    "    )\n",
    "    \n",
    "    return(top_ten_expensive_neighborhood_plot)\n",
    "\n",
    "def parallel_coordinates():\n",
    "    \"\"\"Parallel Coordinates Plot.\"\"\"\n",
    "    \n",
    "    df2 = pd.DataFrame(top_ten_expensive_neighborhood)\n",
    "    cols = ['sale_price_sqr_foot','housing_units','gross_rent']\n",
    "    parallel_ccoo = px.parallel_coordinates(df2, color='sale_price_sqr_foot',dimensions=cols,)\n",
    "    \n",
    "    return(parallel_ccoo)\n",
    "\n",
    "def parallel_categories():\n",
    "    \"\"\"Parallel Categories Plot.\"\"\"\n",
    "    \n",
    "    df3 = df2.reset_index()\n",
    "\n",
    "    parallel_cat = px.parallel_categories(\n",
    "            df3,\n",
    "            dimensions=['neighborhood','sale_price_sqr_foot','housing_units','gross_rent'],\n",
    "            color='sale_price_sqr_foot',\n",
    "            color_continuous_scale=px.colors.sequential.Inferno,\n",
    "    )\n",
    "    parallel_cat.show()\n",
    "    return(parallel_cat)\n",
    "\n",
    "\n",
    "def neighborhood_map():\n",
    "    \"\"\"Neighborhood Map\"\"\"\n",
    "    px.set_mapbox_access_token(mapbox_token)\n",
    "    \n",
    "    df_neighborhood_location = pd.DataFrame(df_neighborhood_locations)\n",
    "    df_neighborhood_location.head()\n",
    "    \n",
    "    neighborhood_mean = df.groupby('neighborhood').mean().reset_index()\n",
    "    neighborhoods_mean = pd.DataFrame(neighborhood_mean)\n",
    "    neighborhoods_mean.head()\n",
    "    \n",
    "    joined_data = pd.concat([df_neighborhood_location,neighborhoods_mean],join='outer',axis=1).drop(columns=['neighborhood'])\n",
    "    joined_data.head()\n",
    "    \n",
    "    sf_gross_rent = px.scatter_mapbox(\n",
    "          joined_data,\n",
    "          lat=\"Lat\",\n",
    "          lon=\"Lon\",\n",
    "          color=\"gross_rent\",\n",
    "          hover_name=\"Neighborhood\",title=\"Gross Rent info in SF neighborhood\"\n",
    "          # hover_data=\"sale_price_sqr_foot\"\n",
    "    )\n",
    "    \n",
    "    return(sf_gross_rent)"
   ]
  },
  {
   "cell_type": "markdown",
   "metadata": {},
   "source": [
    "## Panel Dashboard\n",
    "\n",
    "In this section, you will combine all of the plots into a single dashboard view using Panel. Be creative with your dashboard design!"
   ]
  },
  {
   "cell_type": "code",
   "execution_count": 151,
   "metadata": {},
   "outputs": [
    {
     "data": {
      "application/vnd.plotly.v1+json": {
       "config": {
        "plotlyServerURL": "https://plot.ly"
       },
       "data": [
        {
         "dimensions": [
          {
           "label": "neighborhood",
           "values": [
            "Union Square District",
            "Merced Heights",
            "Miraloma Park",
            "Pacific Heights",
            "Westwood Park",
            "Telegraph Hill",
            "Presidio Heights",
            "Cow Hollow",
            "Potrero Hill",
            "South Beach"
           ]
          },
          {
           "label": "sale_price_sqr_foot",
           "values": [
            903.9932576720645,
            788.8448175872469,
            779.810842264425,
            689.5558168113664,
            687.0875745178323,
            676.5065775293257,
            675.3502120510033,
            665.964041578323,
            662.0136128276529,
            650.1244791945729
           ]
          },
          {
           "label": "housing_units",
           "values": [
            377427.5,
            380348,
            375967.25,
            378401,
            382295,
            378401,
            378401,
            378401,
            378401,
            375805
           ]
          },
          {
           "label": "gross_rent",
           "values": [
            2555.1666666666665,
            3414,
            2155.25,
            2817.285714285714,
            3959,
            2817.285714285714,
            2817.285714285714,
            2817.285714285714,
            2817.285714285714,
            2099
           ]
          }
         ],
         "domain": {
          "x": [
           0,
           1
          ],
          "y": [
           0,
           1
          ]
         },
         "line": {
          "color": [
           903.9932576720645,
           788.8448175872469,
           779.810842264425,
           689.5558168113664,
           687.0875745178323,
           676.5065775293257,
           675.3502120510033,
           665.964041578323,
           662.0136128276529,
           650.1244791945729
          ],
          "coloraxis": "coloraxis"
         },
         "name": "",
         "type": "parcats"
        }
       ],
       "layout": {
        "autosize": true,
        "coloraxis": {
         "colorbar": {
          "title": {
           "text": "sale_price_sqr_foot"
          }
         },
         "colorscale": [
          [
           0,
           "#000004"
          ],
          [
           0.1111111111111111,
           "#1b0c41"
          ],
          [
           0.2222222222222222,
           "#4a0c6b"
          ],
          [
           0.3333333333333333,
           "#781c6d"
          ],
          [
           0.4444444444444444,
           "#a52c60"
          ],
          [
           0.5555555555555556,
           "#cf4446"
          ],
          [
           0.6666666666666666,
           "#ed6925"
          ],
          [
           0.7777777777777778,
           "#fb9b06"
          ],
          [
           0.8888888888888888,
           "#f7d13d"
          ],
          [
           1,
           "#fcffa4"
          ]
         ]
        },
        "legend": {
         "tracegroupgap": 0
        },
        "margin": {
         "t": 60
        },
        "template": {
         "data": {
          "bar": [
           {
            "error_x": {
             "color": "#2a3f5f"
            },
            "error_y": {
             "color": "#2a3f5f"
            },
            "marker": {
             "line": {
              "color": "#E5ECF6",
              "width": 0.5
             }
            },
            "type": "bar"
           }
          ],
          "barpolar": [
           {
            "marker": {
             "line": {
              "color": "#E5ECF6",
              "width": 0.5
             }
            },
            "type": "barpolar"
           }
          ],
          "carpet": [
           {
            "aaxis": {
             "endlinecolor": "#2a3f5f",
             "gridcolor": "white",
             "linecolor": "white",
             "minorgridcolor": "white",
             "startlinecolor": "#2a3f5f"
            },
            "baxis": {
             "endlinecolor": "#2a3f5f",
             "gridcolor": "white",
             "linecolor": "white",
             "minorgridcolor": "white",
             "startlinecolor": "#2a3f5f"
            },
            "type": "carpet"
           }
          ],
          "choropleth": [
           {
            "colorbar": {
             "outlinewidth": 0,
             "ticks": ""
            },
            "type": "choropleth"
           }
          ],
          "contour": [
           {
            "colorbar": {
             "outlinewidth": 0,
             "ticks": ""
            },
            "colorscale": [
             [
              0,
              "#0d0887"
             ],
             [
              0.1111111111111111,
              "#46039f"
             ],
             [
              0.2222222222222222,
              "#7201a8"
             ],
             [
              0.3333333333333333,
              "#9c179e"
             ],
             [
              0.4444444444444444,
              "#bd3786"
             ],
             [
              0.5555555555555556,
              "#d8576b"
             ],
             [
              0.6666666666666666,
              "#ed7953"
             ],
             [
              0.7777777777777778,
              "#fb9f3a"
             ],
             [
              0.8888888888888888,
              "#fdca26"
             ],
             [
              1,
              "#f0f921"
             ]
            ],
            "type": "contour"
           }
          ],
          "contourcarpet": [
           {
            "colorbar": {
             "outlinewidth": 0,
             "ticks": ""
            },
            "type": "contourcarpet"
           }
          ],
          "heatmap": [
           {
            "colorbar": {
             "outlinewidth": 0,
             "ticks": ""
            },
            "colorscale": [
             [
              0,
              "#0d0887"
             ],
             [
              0.1111111111111111,
              "#46039f"
             ],
             [
              0.2222222222222222,
              "#7201a8"
             ],
             [
              0.3333333333333333,
              "#9c179e"
             ],
             [
              0.4444444444444444,
              "#bd3786"
             ],
             [
              0.5555555555555556,
              "#d8576b"
             ],
             [
              0.6666666666666666,
              "#ed7953"
             ],
             [
              0.7777777777777778,
              "#fb9f3a"
             ],
             [
              0.8888888888888888,
              "#fdca26"
             ],
             [
              1,
              "#f0f921"
             ]
            ],
            "type": "heatmap"
           }
          ],
          "heatmapgl": [
           {
            "colorbar": {
             "outlinewidth": 0,
             "ticks": ""
            },
            "colorscale": [
             [
              0,
              "#0d0887"
             ],
             [
              0.1111111111111111,
              "#46039f"
             ],
             [
              0.2222222222222222,
              "#7201a8"
             ],
             [
              0.3333333333333333,
              "#9c179e"
             ],
             [
              0.4444444444444444,
              "#bd3786"
             ],
             [
              0.5555555555555556,
              "#d8576b"
             ],
             [
              0.6666666666666666,
              "#ed7953"
             ],
             [
              0.7777777777777778,
              "#fb9f3a"
             ],
             [
              0.8888888888888888,
              "#fdca26"
             ],
             [
              1,
              "#f0f921"
             ]
            ],
            "type": "heatmapgl"
           }
          ],
          "histogram": [
           {
            "marker": {
             "colorbar": {
              "outlinewidth": 0,
              "ticks": ""
             }
            },
            "type": "histogram"
           }
          ],
          "histogram2d": [
           {
            "colorbar": {
             "outlinewidth": 0,
             "ticks": ""
            },
            "colorscale": [
             [
              0,
              "#0d0887"
             ],
             [
              0.1111111111111111,
              "#46039f"
             ],
             [
              0.2222222222222222,
              "#7201a8"
             ],
             [
              0.3333333333333333,
              "#9c179e"
             ],
             [
              0.4444444444444444,
              "#bd3786"
             ],
             [
              0.5555555555555556,
              "#d8576b"
             ],
             [
              0.6666666666666666,
              "#ed7953"
             ],
             [
              0.7777777777777778,
              "#fb9f3a"
             ],
             [
              0.8888888888888888,
              "#fdca26"
             ],
             [
              1,
              "#f0f921"
             ]
            ],
            "type": "histogram2d"
           }
          ],
          "histogram2dcontour": [
           {
            "colorbar": {
             "outlinewidth": 0,
             "ticks": ""
            },
            "colorscale": [
             [
              0,
              "#0d0887"
             ],
             [
              0.1111111111111111,
              "#46039f"
             ],
             [
              0.2222222222222222,
              "#7201a8"
             ],
             [
              0.3333333333333333,
              "#9c179e"
             ],
             [
              0.4444444444444444,
              "#bd3786"
             ],
             [
              0.5555555555555556,
              "#d8576b"
             ],
             [
              0.6666666666666666,
              "#ed7953"
             ],
             [
              0.7777777777777778,
              "#fb9f3a"
             ],
             [
              0.8888888888888888,
              "#fdca26"
             ],
             [
              1,
              "#f0f921"
             ]
            ],
            "type": "histogram2dcontour"
           }
          ],
          "mesh3d": [
           {
            "colorbar": {
             "outlinewidth": 0,
             "ticks": ""
            },
            "type": "mesh3d"
           }
          ],
          "parcoords": [
           {
            "line": {
             "colorbar": {
              "outlinewidth": 0,
              "ticks": ""
             }
            },
            "type": "parcoords"
           }
          ],
          "pie": [
           {
            "automargin": true,
            "type": "pie"
           }
          ],
          "scatter": [
           {
            "marker": {
             "colorbar": {
              "outlinewidth": 0,
              "ticks": ""
             }
            },
            "type": "scatter"
           }
          ],
          "scatter3d": [
           {
            "line": {
             "colorbar": {
              "outlinewidth": 0,
              "ticks": ""
             }
            },
            "marker": {
             "colorbar": {
              "outlinewidth": 0,
              "ticks": ""
             }
            },
            "type": "scatter3d"
           }
          ],
          "scattercarpet": [
           {
            "marker": {
             "colorbar": {
              "outlinewidth": 0,
              "ticks": ""
             }
            },
            "type": "scattercarpet"
           }
          ],
          "scattergeo": [
           {
            "marker": {
             "colorbar": {
              "outlinewidth": 0,
              "ticks": ""
             }
            },
            "type": "scattergeo"
           }
          ],
          "scattergl": [
           {
            "marker": {
             "colorbar": {
              "outlinewidth": 0,
              "ticks": ""
             }
            },
            "type": "scattergl"
           }
          ],
          "scattermapbox": [
           {
            "marker": {
             "colorbar": {
              "outlinewidth": 0,
              "ticks": ""
             }
            },
            "type": "scattermapbox"
           }
          ],
          "scatterpolar": [
           {
            "marker": {
             "colorbar": {
              "outlinewidth": 0,
              "ticks": ""
             }
            },
            "type": "scatterpolar"
           }
          ],
          "scatterpolargl": [
           {
            "marker": {
             "colorbar": {
              "outlinewidth": 0,
              "ticks": ""
             }
            },
            "type": "scatterpolargl"
           }
          ],
          "scatterternary": [
           {
            "marker": {
             "colorbar": {
              "outlinewidth": 0,
              "ticks": ""
             }
            },
            "type": "scatterternary"
           }
          ],
          "surface": [
           {
            "colorbar": {
             "outlinewidth": 0,
             "ticks": ""
            },
            "colorscale": [
             [
              0,
              "#0d0887"
             ],
             [
              0.1111111111111111,
              "#46039f"
             ],
             [
              0.2222222222222222,
              "#7201a8"
             ],
             [
              0.3333333333333333,
              "#9c179e"
             ],
             [
              0.4444444444444444,
              "#bd3786"
             ],
             [
              0.5555555555555556,
              "#d8576b"
             ],
             [
              0.6666666666666666,
              "#ed7953"
             ],
             [
              0.7777777777777778,
              "#fb9f3a"
             ],
             [
              0.8888888888888888,
              "#fdca26"
             ],
             [
              1,
              "#f0f921"
             ]
            ],
            "type": "surface"
           }
          ],
          "table": [
           {
            "cells": {
             "fill": {
              "color": "#EBF0F8"
             },
             "line": {
              "color": "white"
             }
            },
            "header": {
             "fill": {
              "color": "#C8D4E3"
             },
             "line": {
              "color": "white"
             }
            },
            "type": "table"
           }
          ]
         },
         "layout": {
          "annotationdefaults": {
           "arrowcolor": "#2a3f5f",
           "arrowhead": 0,
           "arrowwidth": 1
          },
          "autotypenumbers": "strict",
          "coloraxis": {
           "colorbar": {
            "outlinewidth": 0,
            "ticks": ""
           }
          },
          "colorscale": {
           "diverging": [
            [
             0,
             "#8e0152"
            ],
            [
             0.1,
             "#c51b7d"
            ],
            [
             0.2,
             "#de77ae"
            ],
            [
             0.3,
             "#f1b6da"
            ],
            [
             0.4,
             "#fde0ef"
            ],
            [
             0.5,
             "#f7f7f7"
            ],
            [
             0.6,
             "#e6f5d0"
            ],
            [
             0.7,
             "#b8e186"
            ],
            [
             0.8,
             "#7fbc41"
            ],
            [
             0.9,
             "#4d9221"
            ],
            [
             1,
             "#276419"
            ]
           ],
           "sequential": [
            [
             0,
             "#0d0887"
            ],
            [
             0.1111111111111111,
             "#46039f"
            ],
            [
             0.2222222222222222,
             "#7201a8"
            ],
            [
             0.3333333333333333,
             "#9c179e"
            ],
            [
             0.4444444444444444,
             "#bd3786"
            ],
            [
             0.5555555555555556,
             "#d8576b"
            ],
            [
             0.6666666666666666,
             "#ed7953"
            ],
            [
             0.7777777777777778,
             "#fb9f3a"
            ],
            [
             0.8888888888888888,
             "#fdca26"
            ],
            [
             1,
             "#f0f921"
            ]
           ],
           "sequentialminus": [
            [
             0,
             "#0d0887"
            ],
            [
             0.1111111111111111,
             "#46039f"
            ],
            [
             0.2222222222222222,
             "#7201a8"
            ],
            [
             0.3333333333333333,
             "#9c179e"
            ],
            [
             0.4444444444444444,
             "#bd3786"
            ],
            [
             0.5555555555555556,
             "#d8576b"
            ],
            [
             0.6666666666666666,
             "#ed7953"
            ],
            [
             0.7777777777777778,
             "#fb9f3a"
            ],
            [
             0.8888888888888888,
             "#fdca26"
            ],
            [
             1,
             "#f0f921"
            ]
           ]
          },
          "colorway": [
           "#636efa",
           "#EF553B",
           "#00cc96",
           "#ab63fa",
           "#FFA15A",
           "#19d3f3",
           "#FF6692",
           "#B6E880",
           "#FF97FF",
           "#FECB52"
          ],
          "font": {
           "color": "#2a3f5f"
          },
          "geo": {
           "bgcolor": "white",
           "lakecolor": "white",
           "landcolor": "#E5ECF6",
           "showlakes": true,
           "showland": true,
           "subunitcolor": "white"
          },
          "hoverlabel": {
           "align": "left"
          },
          "hovermode": "closest",
          "mapbox": {
           "style": "light"
          },
          "paper_bgcolor": "white",
          "plot_bgcolor": "#E5ECF6",
          "polar": {
           "angularaxis": {
            "gridcolor": "white",
            "linecolor": "white",
            "ticks": ""
           },
           "bgcolor": "#E5ECF6",
           "radialaxis": {
            "gridcolor": "white",
            "linecolor": "white",
            "ticks": ""
           }
          },
          "scene": {
           "xaxis": {
            "backgroundcolor": "#E5ECF6",
            "gridcolor": "white",
            "gridwidth": 2,
            "linecolor": "white",
            "showbackground": true,
            "ticks": "",
            "zerolinecolor": "white"
           },
           "yaxis": {
            "backgroundcolor": "#E5ECF6",
            "gridcolor": "white",
            "gridwidth": 2,
            "linecolor": "white",
            "showbackground": true,
            "ticks": "",
            "zerolinecolor": "white"
           },
           "zaxis": {
            "backgroundcolor": "#E5ECF6",
            "gridcolor": "white",
            "gridwidth": 2,
            "linecolor": "white",
            "showbackground": true,
            "ticks": "",
            "zerolinecolor": "white"
           }
          },
          "shapedefaults": {
           "line": {
            "color": "#2a3f5f"
           }
          },
          "ternary": {
           "aaxis": {
            "gridcolor": "white",
            "linecolor": "white",
            "ticks": ""
           },
           "baxis": {
            "gridcolor": "white",
            "linecolor": "white",
            "ticks": ""
           },
           "bgcolor": "#E5ECF6",
           "caxis": {
            "gridcolor": "white",
            "linecolor": "white",
            "ticks": ""
           }
          },
          "title": {
           "x": 0.05
          },
          "xaxis": {
           "automargin": true,
           "gridcolor": "white",
           "linecolor": "white",
           "ticks": "",
           "title": {
            "standoff": 15
           },
           "zerolinecolor": "white",
           "zerolinewidth": 2
          },
          "yaxis": {
           "automargin": true,
           "gridcolor": "white",
           "linecolor": "white",
           "ticks": "",
           "title": {
            "standoff": 15
           },
           "zerolinecolor": "white",
           "zerolinewidth": 2
          }
         }
        }
       }
      },
      "image/png": "[encoded data removed]",
      "text/html": [
       "<div>                            <div id=\"df03b47f-b212-475d-818f-c0a190bd7325\" class=\"plotly-graph-div\" style=\"height:525px; width:100%;\"></div>            <script type=\"text/javascript\">                require([\"plotly\"], function(Plotly) {                    window.PLOTLYENV=window.PLOTLYENV || {};                                    if (document.getElementById(\"df03b47f-b212-475d-818f-c0a190bd7325\")) {                    Plotly.newPlot(                        \"df03b47f-b212-475d-818f-c0a190bd7325\",                        [{\"dimensions\": [{\"label\": \"neighborhood\", \"values\": [\"Union Square District\", \"Merced Heights\", \"Miraloma Park\", \"Pacific Heights\", \"Westwood Park\", \"Telegraph Hill\", \"Presidio Heights\", \"Cow Hollow\", \"Potrero Hill\", \"South Beach\"]}, {\"label\": \"sale_price_sqr_foot\", \"values\": [903.9932576720645, 788.8448175872469, 779.810842264425, 689.5558168113664, 687.0875745178323, 676.5065775293257, 675.3502120510033, 665.964041578323, 662.0136128276529, 650.1244791945729]}, {\"label\": \"housing_units\", \"values\": [377427.5, 380348.0, 375967.25, 378401.0, 382295.0, 378401.0, 378401.0, 378401.0, 378401.0, 375805.0]}, {\"label\": \"gross_rent\", \"values\": [2555.1666666666665, 3414.0, 2155.25, 2817.285714285714, 3959.0, 2817.285714285714, 2817.285714285714, 2817.285714285714, 2817.285714285714, 2099.0]}], \"domain\": {\"x\": [0.0, 1.0], \"y\": [0.0, 1.0]}, \"line\": {\"color\": [903.9932576720645, 788.8448175872469, 779.810842264425, 689.5558168113664, 687.0875745178323, 676.5065775293257, 675.3502120510033, 665.964041578323, 662.0136128276529, 650.1244791945729], \"coloraxis\": \"coloraxis\"}, \"name\": \"\", \"type\": \"parcats\"}],                        {\"coloraxis\": {\"colorbar\": {\"title\": {\"text\": \"sale_price_sqr_foot\"}}, \"colorscale\": [[0.0, \"#000004\"], [0.1111111111111111, \"#1b0c41\"], [0.2222222222222222, \"#4a0c6b\"], [0.3333333333333333, \"#781c6d\"], [0.4444444444444444, \"#a52c60\"], [0.5555555555555556, \"#cf4446\"], [0.6666666666666666, \"#ed6925\"], [0.7777777777777778, \"#fb9b06\"], [0.8888888888888888, \"#f7d13d\"], [1.0, \"#fcffa4\"]]}, \"legend\": {\"tracegroupgap\": 0}, \"margin\": {\"t\": 60}, \"template\": {\"data\": {\"bar\": [{\"error_x\": {\"color\": \"#2a3f5f\"}, \"error_y\": {\"color\": \"#2a3f5f\"}, \"marker\": {\"line\": {\"color\": \"#E5ECF6\", \"width\": 0.5}}, \"type\": \"bar\"}], \"barpolar\": [{\"marker\": {\"line\": {\"color\": \"#E5ECF6\", \"width\": 0.5}}, \"type\": \"barpolar\"}], \"carpet\": [{\"aaxis\": {\"endlinecolor\": \"#2a3f5f\", \"gridcolor\": \"white\", \"linecolor\": \"white\", \"minorgridcolor\": \"white\", \"startlinecolor\": \"#2a3f5f\"}, \"baxis\": {\"endlinecolor\": \"#2a3f5f\", \"gridcolor\": \"white\", \"linecolor\": \"white\", \"minorgridcolor\": \"white\", \"startlinecolor\": \"#2a3f5f\"}, \"type\": \"carpet\"}], \"choropleth\": [{\"colorbar\": {\"outlinewidth\": 0, \"ticks\": \"\"}, \"type\": \"choropleth\"}], \"contour\": [{\"colorbar\": {\"outlinewidth\": 0, \"ticks\": \"\"}, \"colorscale\": [[0.0, \"#0d0887\"], [0.1111111111111111, \"#46039f\"], [0.2222222222222222, \"#7201a8\"], [0.3333333333333333, \"#9c179e\"], [0.4444444444444444, \"#bd3786\"], [0.5555555555555556, \"#d8576b\"], [0.6666666666666666, \"#ed7953\"], [0.7777777777777778, \"#fb9f3a\"], [0.8888888888888888, \"#fdca26\"], [1.0, \"#f0f921\"]], \"type\": \"contour\"}], \"contourcarpet\": [{\"colorbar\": {\"outlinewidth\": 0, \"ticks\": \"\"}, \"type\": \"contourcarpet\"}], \"heatmap\": [{\"colorbar\": {\"outlinewidth\": 0, \"ticks\": \"\"}, \"colorscale\": [[0.0, \"#0d0887\"], [0.1111111111111111, \"#46039f\"], [0.2222222222222222, \"#7201a8\"], [0.3333333333333333, \"#9c179e\"], [0.4444444444444444, \"#bd3786\"], [0.5555555555555556, \"#d8576b\"], [0.6666666666666666, \"#ed7953\"], [0.7777777777777778, \"#fb9f3a\"], [0.8888888888888888, \"#fdca26\"], [1.0, \"#f0f921\"]], \"type\": \"heatmap\"}], \"heatmapgl\": [{\"colorbar\": {\"outlinewidth\": 0, \"ticks\": \"\"}, \"colorscale\": [[0.0, \"#0d0887\"], [0.1111111111111111, \"#46039f\"], [0.2222222222222222, \"#7201a8\"], [0.3333333333333333, \"#9c179e\"], [0.4444444444444444, \"#bd3786\"], [0.5555555555555556, \"#d8576b\"], [0.6666666666666666, \"#ed7953\"], [0.7777777777777778, \"#fb9f3a\"], [0.8888888888888888, \"#fdca26\"], [1.0, \"#f0f921\"]], \"type\": \"heatmapgl\"}], \"histogram\": [{\"marker\": {\"colorbar\": {\"outlinewidth\": 0, \"ticks\": \"\"}}, \"type\": \"histogram\"}], \"histogram2d\": [{\"colorbar\": {\"outlinewidth\": 0, \"ticks\": \"\"}, \"colorscale\": [[0.0, \"#0d0887\"], [0.1111111111111111, \"#46039f\"], [0.2222222222222222, \"#7201a8\"], [0.3333333333333333, \"#9c179e\"], [0.4444444444444444, \"#bd3786\"], [0.5555555555555556, \"#d8576b\"], [0.6666666666666666, \"#ed7953\"], [0.7777777777777778, \"#fb9f3a\"], [0.8888888888888888, \"#fdca26\"], [1.0, \"#f0f921\"]], \"type\": \"histogram2d\"}], \"histogram2dcontour\": [{\"colorbar\": {\"outlinewidth\": 0, \"ticks\": \"\"}, \"colorscale\": [[0.0, \"#0d0887\"], [0.1111111111111111, \"#46039f\"], [0.2222222222222222, \"#7201a8\"], [0.3333333333333333, \"#9c179e\"], [0.4444444444444444, \"#bd3786\"], [0.5555555555555556, \"#d8576b\"], [0.6666666666666666, \"#ed7953\"], [0.7777777777777778, \"#fb9f3a\"], [0.8888888888888888, \"#fdca26\"], [1.0, \"#f0f921\"]], \"type\": \"histogram2dcontour\"}], \"mesh3d\": [{\"colorbar\": {\"outlinewidth\": 0, \"ticks\": \"\"}, \"type\": \"mesh3d\"}], \"parcoords\": [{\"line\": {\"colorbar\": {\"outlinewidth\": 0, \"ticks\": \"\"}}, \"type\": \"parcoords\"}], \"pie\": [{\"automargin\": true, \"type\": \"pie\"}], \"scatter\": [{\"marker\": {\"colorbar\": {\"outlinewidth\": 0, \"ticks\": \"\"}}, \"type\": \"scatter\"}], \"scatter3d\": [{\"line\": {\"colorbar\": {\"outlinewidth\": 0, \"ticks\": \"\"}}, \"marker\": {\"colorbar\": {\"outlinewidth\": 0, \"ticks\": \"\"}}, \"type\": \"scatter3d\"}], \"scattercarpet\": [{\"marker\": {\"colorbar\": {\"outlinewidth\": 0, \"ticks\": \"\"}}, \"type\": \"scattercarpet\"}], \"scattergeo\": [{\"marker\": {\"colorbar\": {\"outlinewidth\": 0, \"ticks\": \"\"}}, \"type\": \"scattergeo\"}], \"scattergl\": [{\"marker\": {\"colorbar\": {\"outlinewidth\": 0, \"ticks\": \"\"}}, \"type\": \"scattergl\"}], \"scattermapbox\": [{\"marker\": {\"colorbar\": {\"outlinewidth\": 0, \"ticks\": \"\"}}, \"type\": \"scattermapbox\"}], \"scatterpolar\": [{\"marker\": {\"colorbar\": {\"outlinewidth\": 0, \"ticks\": \"\"}}, \"type\": \"scatterpolar\"}], \"scatterpolargl\": [{\"marker\": {\"colorbar\": {\"outlinewidth\": 0, \"ticks\": \"\"}}, \"type\": \"scatterpolargl\"}], \"scatterternary\": [{\"marker\": {\"colorbar\": {\"outlinewidth\": 0, \"ticks\": \"\"}}, \"type\": \"scatterternary\"}], \"surface\": [{\"colorbar\": {\"outlinewidth\": 0, \"ticks\": \"\"}, \"colorscale\": [[0.0, \"#0d0887\"], [0.1111111111111111, \"#46039f\"], [0.2222222222222222, \"#7201a8\"], [0.3333333333333333, \"#9c179e\"], [0.4444444444444444, \"#bd3786\"], [0.5555555555555556, \"#d8576b\"], [0.6666666666666666, \"#ed7953\"], [0.7777777777777778, \"#fb9f3a\"], [0.8888888888888888, \"#fdca26\"], [1.0, \"#f0f921\"]], \"type\": \"surface\"}], \"table\": [{\"cells\": {\"fill\": {\"color\": \"#EBF0F8\"}, \"line\": {\"color\": \"white\"}}, \"header\": {\"fill\": {\"color\": \"#C8D4E3\"}, \"line\": {\"color\": \"white\"}}, \"type\": \"table\"}]}, \"layout\": {\"annotationdefaults\": {\"arrowcolor\": \"#2a3f5f\", \"arrowhead\": 0, \"arrowwidth\": 1}, \"autotypenumbers\": \"strict\", \"coloraxis\": {\"colorbar\": {\"outlinewidth\": 0, \"ticks\": \"\"}}, \"colorscale\": {\"diverging\": [[0, \"#8e0152\"], [0.1, \"#c51b7d\"], [0.2, \"#de77ae\"], [0.3, \"#f1b6da\"], [0.4, \"#fde0ef\"], [0.5, \"#f7f7f7\"], [0.6, \"#e6f5d0\"], [0.7, \"#b8e186\"], [0.8, \"#7fbc41\"], [0.9, \"#4d9221\"], [1, \"#276419\"]], \"sequential\": [[0.0, \"#0d0887\"], [0.1111111111111111, \"#46039f\"], [0.2222222222222222, \"#7201a8\"], [0.3333333333333333, \"#9c179e\"], [0.4444444444444444, \"#bd3786\"], [0.5555555555555556, \"#d8576b\"], [0.6666666666666666, \"#ed7953\"], [0.7777777777777778, \"#fb9f3a\"], [0.8888888888888888, \"#fdca26\"], [1.0, \"#f0f921\"]], \"sequentialminus\": [[0.0, \"#0d0887\"], [0.1111111111111111, \"#46039f\"], [0.2222222222222222, \"#7201a8\"], [0.3333333333333333, \"#9c179e\"], [0.4444444444444444, \"#bd3786\"], [0.5555555555555556, \"#d8576b\"], [0.6666666666666666, \"#ed7953\"], [0.7777777777777778, \"#fb9f3a\"], [0.8888888888888888, \"#fdca26\"], [1.0, \"#f0f921\"]]}, \"colorway\": [\"#636efa\", \"#EF553B\", \"#00cc96\", \"#ab63fa\", \"#FFA15A\", \"#19d3f3\", \"#FF6692\", \"#B6E880\", \"#FF97FF\", \"#FECB52\"], \"font\": {\"color\": \"#2a3f5f\"}, \"geo\": {\"bgcolor\": \"white\", \"lakecolor\": \"white\", \"landcolor\": \"#E5ECF6\", \"showlakes\": true, \"showland\": true, \"subunitcolor\": \"white\"}, \"hoverlabel\": {\"align\": \"left\"}, \"hovermode\": \"closest\", \"mapbox\": {\"style\": \"light\"}, \"paper_bgcolor\": \"white\", \"plot_bgcolor\": \"#E5ECF6\", \"polar\": {\"angularaxis\": {\"gridcolor\": \"white\", \"linecolor\": \"white\", \"ticks\": \"\"}, \"bgcolor\": \"#E5ECF6\", \"radialaxis\": {\"gridcolor\": \"white\", \"linecolor\": \"white\", \"ticks\": \"\"}}, \"scene\": {\"xaxis\": {\"backgroundcolor\": \"#E5ECF6\", \"gridcolor\": \"white\", \"gridwidth\": 2, \"linecolor\": \"white\", \"showbackground\": true, \"ticks\": \"\", \"zerolinecolor\": \"white\"}, \"yaxis\": {\"backgroundcolor\": \"#E5ECF6\", \"gridcolor\": \"white\", \"gridwidth\": 2, \"linecolor\": \"white\", \"showbackground\": true, \"ticks\": \"\", \"zerolinecolor\": \"white\"}, \"zaxis\": {\"backgroundcolor\": \"#E5ECF6\", \"gridcolor\": \"white\", \"gridwidth\": 2, \"linecolor\": \"white\", \"showbackground\": true, \"ticks\": \"\", \"zerolinecolor\": \"white\"}}, \"shapedefaults\": {\"line\": {\"color\": \"#2a3f5f\"}}, \"ternary\": {\"aaxis\": {\"gridcolor\": \"white\", \"linecolor\": \"white\", \"ticks\": \"\"}, \"baxis\": {\"gridcolor\": \"white\", \"linecolor\": \"white\", \"ticks\": \"\"}, \"bgcolor\": \"#E5ECF6\", \"caxis\": {\"gridcolor\": \"white\", \"linecolor\": \"white\", \"ticks\": \"\"}}, \"title\": {\"x\": 0.05}, \"xaxis\": {\"automargin\": true, \"gridcolor\": \"white\", \"linecolor\": \"white\", \"ticks\": \"\", \"title\": {\"standoff\": 15}, \"zerolinecolor\": \"white\", \"zerolinewidth\": 2}, \"yaxis\": {\"automargin\": true, \"gridcolor\": \"white\", \"linecolor\": \"white\", \"ticks\": \"\", \"title\": {\"standoff\": 15}, \"zerolinecolor\": \"white\", \"zerolinewidth\": 2}}}},                        {\"responsive\": true}                    ).then(function(){\n",
       "                            \n",
       "var gd = document.getElementById('df03b47f-b212-475d-818f-c0a190bd7325');\n",
       "var x = new MutationObserver(function (mutations, observer) {{\n",
       "        var display = window.getComputedStyle(gd).display;\n",
       "        if (!display || display === 'none') {{\n",
       "            console.log([gd, 'removed!']);\n",
       "            Plotly.purge(gd);\n",
       "            observer.disconnect();\n",
       "        }}\n",
       "}});\n",
       "\n",
       "// Listen for the removal of the full notebook cells\n",
       "var notebookContainer = gd.closest('#notebook-container');\n",
       "if (notebookContainer) {{\n",
       "    x.observe(notebookContainer, {childList: true});\n",
       "}}\n",
       "\n",
       "// Listen for the clearing of the current output cell\n",
       "var outputEl = gd.closest('.output');\n",
       "if (outputEl) {{\n",
       "    x.observe(outputEl, {childList: true});\n",
       "}}\n",
       "\n",
       "                        })                };                });            </script>        </div>"
      ]
     },
     "metadata": {},
     "output_type": "display_data"
    },
    {
     "data": {},
     "metadata": {},
     "output_type": "display_data"
    },
    {
     "data": {
      "application/vnd.holoviews_exec.v0+json": "",
      "text/html": [
       "<div id='1289'>\n",
       "\n",
       "\n",
       "\n",
       "\n",
       "\n",
       "  <div class=\"bk-root\" id=\"de30dff2-ebff-4a49-ba07-20f8b76fcc2e\" data-root-id=\"1289\"></div>\n",
       "</div>\n",
       "<script type=\"application/javascript\">(function(root) {\n",
       "  function embed_document(root) {\n",
       "    var docs_json = {\"ba8a86b7-b8e6-4fc4-ae98-4544bbe47d3b\":{\"roots\":{\"references\":[{\"attributes\":{\"client_comm_id\":\"e19dac0d42994ba0a72c6ccdd8c13ab8\",\"comm_id\":\"4bd44ef038454a3fb3bfb1f7267e74e4\",\"plot_id\":\"1289\"},\"id\":\"1298\",\"type\":\"panel.models.comm_manager.CommManager\"},{\"attributes\":{\"margin\":[0,0,0,0],\"tabs\":[{\"id\":\"1291\"},{\"id\":\"1293\"},{\"id\":\"1295\"},{\"id\":\"1297\"}]},\"id\":\"1289\",\"type\":\"Tabs\"},{\"attributes\":{\"margin\":[5,10,5,10],\"options\":[\":Bars   [neighborhood]   (sale_price_sqr_foot)\",\":DynamicMap   [neighborhood]\"],\"title\":\"Neighborhood Analysis\",\"value\":\":Bars   [neighborhood]   (sale_price_sqr_foot)\"},\"id\":\"1294\",\"type\":\"Select\"},{\"attributes\":{\"margin\":[5,10,5,10],\"options\":[\"Figure({\\n    'data': [{'hovertemplate': ('<b>%{hovertext}</b><br><br>Lat' ... '%{marker.color}<extra></extra>'),\\n              'hovertext': array(['Alamo Square', 'Anza Vista', 'Bayview', 'Bayview Heights',\\n                                  'Bernal Heights', 'Buena Vista Park', 'Central Richmond',\\n                                  'Central Sunset', 'Clarendon Heights', 'Corona Heights', 'Cow Hollow',\\n                                  'Croker Amazon', 'Diamond Heights', 'Downtown', 'Duboce Triangle',\\n                                  'Eureka Valley/Dolores Heights', 'Excelsior',\\n                                  'Financial District North', 'Financial District South', 'Forest Knolls',\\n                                  'Glen Park', 'Golden Gate Heights', 'Haight Ashbury', 'Hayes Valley',\\n                                  'Hunters Point', 'Ingleside', 'Ingleside Heights', 'Inner Mission',\\n                                  'Inner Parkside', 'Inner Richmond', 'Inner Sunset',\\n                                  'Jordan Park/Laurel Heights', 'Lake --The Presidio', 'Lone Mountain',\\n                                  'Lower Pacific Heights', 'Marina', 'Merced Heights', 'Midtown Terrace',\\n                                  'Miraloma Park', 'Mission Bay', 'Mission Dolores', 'Mission Terrace',\\n                                  'Nob Hill', 'Noe Valley', 'North Beach', 'North Waterfront',\\n                                  'Oceanview', 'Outer Mission', 'Outer Parkside', 'Outer Richmond',\\n                                  'Outer Sunset', 'Pacific Heights', 'Park North', 'Parkside',\\n                                  'Parnassus/Ashbury Heights', 'Portola', 'Potrero Hill',\\n                                  'Presidio Heights', 'Russian Hill', 'Silver Terrace', 'South Beach',\\n                                  'South of Market', 'Sunnyside', 'Telegraph Hill', 'Twin Peaks',\\n                                  'Union Square District', 'Van Ness/ Civic Center', 'Visitacion Valley',\\n                                  'West Portal', 'Western Addition', 'Westwood Highlands',\\n                                  'Westwood Park', 'Yerba Buena'], dtype=object),\\n              'lat': array([37.791012, 37.779598, 37.73467 , 37.72874 , 37.72863 , 37.76816 ,\\n                            37.77789 , 37.74961 , 37.75331 , 37.78553 , 37.79298 , 37.7228  ,\\n                            37.72863 , 37.79101 , 37.76964 , 37.75554 , 37.72874 , 37.79101 ,\\n                            37.79101 , 37.75706 , 37.72863 , 37.757912, 37.76525 , 37.76525 ,\\n                            37.72551 , 37.721161, 37.72116 , 37.75416 , 37.74961 , 37.769112,\\n                            37.74961 , 37.78553 , 37.80152 , 37.7789  , 37.79298 , 37.79972 ,\\n                            37.71993 , 37.75331 , 37.73415 , 37.78323 , 37.75184 , 37.72863 ,\\n                            37.79298 , 37.75331 , 37.80055 , 37.80055 , 37.71993 , 37.7228  ,\\n                            37.7517  , 37.76911 , 37.74961 , 37.79298 , 37.72838 , 37.74961 ,\\n                            37.76355 , 37.73467 , 37.73196 , 37.78553 , 37.79298 , 37.73467 ,\\n                            37.78323 , 37.79101 , 37.73415 , 37.80055 , 37.753311, 37.79101 ,\\n                            37.77951 , 37.72874 , 37.74026 , 37.79298 , 37.7347  , 37.73415 ,\\n                            37.79298 ]),\\n              'legendgroup': '',\\n              'lon': array([-122.4021  , -122.443451, -122.40106 , -122.41098 , -122.44305 ,\\n                            -122.43933 , -122.44517 , -122.48999 , -122.44703 , -122.456   ,\\n                            -122.43579 , -122.43869 , -122.44305 , -122.4021  , -122.42611 ,\\n                            -122.43779 , -122.41098 , -122.4021  , -122.4021  , -122.45509 ,\\n                            -122.44305 , -122.46402 , -122.43596 , -122.43596 , -122.37178 ,\\n                            -122.487068, -122.48707 , -122.41947 , -122.48999 , -122.483566,\\n                            -122.48997 , -122.456   , -122.45457 , -122.45496 , -122.43579 ,\\n                            -122.46689 , -122.46595 , -122.44703 , -122.457   , -122.40065 ,\\n                            -122.42522 , -122.44305 , -122.43579 , -122.44703 , -122.40433 ,\\n                            -122.40433 , -122.46595 , -122.43869 , -122.446   , -122.48357 ,\\n                            -122.48999 , -122.43579 , -122.47851 , -122.48999 , -122.45765 ,\\n                            -122.40106 , -122.38324 , -122.456   , -122.43579 , -122.40106 ,\\n                            -122.40065 , -122.4021  , -122.457   , -122.40433 , -122.447029,\\n                            -122.4021  , -122.42022 , -122.41098 , -122.46388 , -122.43579 ,\\n                            -122.456854, -122.457   , -122.39636 ]),\\n              'marker': {'color': array([2817.28571429, 3031.83333333, 2318.4       , 3739.        ,\\n                                         3080.33333333, 2698.83333333, 2817.28571429, 2817.28571429,\\n                                         2250.5       , 2472.        , 2817.28571429, 2698.83333333,\\n                                         2016.        , 2817.28571429, 2780.25      , 2817.28571429,\\n                                         3031.83333333, 2817.28571429, 2472.        , 1781.5       ,\\n                                         2899.5       , 2601.4       , 2817.28571429, 2817.28571429,\\n                                         2489.        , 2509.        , 2960.        , 2817.28571429,\\n                                         3224.        , 2817.28571429, 2817.28571429, 2817.28571429,\\n                                         2555.16666667, 2555.16666667, 2817.28571429, 2817.28571429,\\n                                         3414.        , 2647.5       , 2155.25      , 2663.66666667,\\n                                         2555.16666667, 3173.4       , 2817.28571429, 2817.28571429,\\n                                         2990.8       , 2818.4       , 2434.        , 2995.75      ,\\n                                         2817.28571429, 2817.28571429, 2817.28571429, 2817.28571429,\\n                                         2817.28571429, 2555.16666667, 2817.28571429, 2318.4       ,\\n                                         2817.28571429, 2817.28571429, 2817.28571429, 3528.        ,\\n                                         2099.        , 2817.28571429, 2899.5       , 2817.28571429,\\n                                         2817.28571429, 2555.16666667, 2817.28571429, 3657.        ,\\n                                         2515.5       , 2555.16666667, 2250.5       , 3959.        ,\\n                                         2555.16666667]),\\n                         'coloraxis': 'coloraxis'},\\n              'mode': 'markers',\\n              'name': '',\\n              'showlegend': False,\\n              'subplot': 'mapbox',\\n              'type': 'scattermapbox'}],\\n    'layout': {'coloraxis': {'colorbar': {'title': {'text': 'gross_rent'}},\\n                             'colorscale': [[0.0, '#0d0887'], [0.1111111111111111,\\n                                            '#46039f'], [0.2222222222222222,\\n                                            '#7201a8'], [0.3333333333333333,\\n                                            '#9c179e'], [0.4444444444444444,\\n                                            '#bd3786'], [0.5555555555555556,\\n                                            '#d8576b'], [0.6666666666666666,\\n                                            '#ed7953'], [0.7777777777777778,\\n                                            '#fb9f3a'], [0.8888888888888888,\\n                                            '#fdca26'], [1.0, '#f0f921']]},\\n               'legend': {'tracegroupgap': 0},\\n               'mapbox': {'accesstoken': ('pk.eyJ1IjoiZW5kYWxrMSIsImEiOiJ' ... 'MHFjIn0.iUhhWIUEsxXNRxSDD7AGwQ'),\\n                          'center': {'lat': 37.76019350684932, 'lon': -122.43912380821916},\\n                          'domain': {'x': [0.0, 1.0], 'y': [0.0, 1.0]},\\n                          'zoom': 8},\\n               'template': '...',\\n               'title': {'text': 'Gross Rent info in SF neighborhood'}}\\n})\"],\"title\":\"Welcome\",\"value\":\"Figure({\\n    'data': [{'hovertemplate': ('<b>%{hovertext}</b><br><br>Lat' ... '%{marker.color}<extra></extra>'),\\n              'hovertext': array(['Alamo Square', 'Anza Vista', 'Bayview', 'Bayview Heights',\\n                                  'Bernal Heights', 'Buena Vista Park', 'Central Richmond',\\n                                  'Central Sunset', 'Clarendon Heights', 'Corona Heights', 'Cow Hollow',\\n                                  'Croker Amazon', 'Diamond Heights', 'Downtown', 'Duboce Triangle',\\n                                  'Eureka Valley/Dolores Heights', 'Excelsior',\\n                                  'Financial District North', 'Financial District South', 'Forest Knolls',\\n                                  'Glen Park', 'Golden Gate Heights', 'Haight Ashbury', 'Hayes Valley',\\n                                  'Hunters Point', 'Ingleside', 'Ingleside Heights', 'Inner Mission',\\n                                  'Inner Parkside', 'Inner Richmond', 'Inner Sunset',\\n                                  'Jordan Park/Laurel Heights', 'Lake --The Presidio', 'Lone Mountain',\\n                                  'Lower Pacific Heights', 'Marina', 'Merced Heights', 'Midtown Terrace',\\n                                  'Miraloma Park', 'Mission Bay', 'Mission Dolores', 'Mission Terrace',\\n                                  'Nob Hill', 'Noe Valley', 'North Beach', 'North Waterfront',\\n                                  'Oceanview', 'Outer Mission', 'Outer Parkside', 'Outer Richmond',\\n                                  'Outer Sunset', 'Pacific Heights', 'Park North', 'Parkside',\\n                                  'Parnassus/Ashbury Heights', 'Portola', 'Potrero Hill',\\n                                  'Presidio Heights', 'Russian Hill', 'Silver Terrace', 'South Beach',\\n                                  'South of Market', 'Sunnyside', 'Telegraph Hill', 'Twin Peaks',\\n                                  'Union Square District', 'Van Ness/ Civic Center', 'Visitacion Valley',\\n                                  'West Portal', 'Western Addition', 'Westwood Highlands',\\n                                  'Westwood Park', 'Yerba Buena'], dtype=object),\\n              'lat': array([37.791012, 37.779598, 37.73467 , 37.72874 , 37.72863 , 37.76816 ,\\n                            37.77789 , 37.74961 , 37.75331 , 37.78553 , 37.79298 , 37.7228  ,\\n                            37.72863 , 37.79101 , 37.76964 , 37.75554 , 37.72874 , 37.79101 ,\\n                            37.79101 , 37.75706 , 37.72863 , 37.757912, 37.76525 , 37.76525 ,\\n                            37.72551 , 37.721161, 37.72116 , 37.75416 , 37.74961 , 37.769112,\\n                            37.74961 , 37.78553 , 37.80152 , 37.7789  , 37.79298 , 37.79972 ,\\n                            37.71993 , 37.75331 , 37.73415 , 37.78323 , 37.75184 , 37.72863 ,\\n                            37.79298 , 37.75331 , 37.80055 , 37.80055 , 37.71993 , 37.7228  ,\\n                            37.7517  , 37.76911 , 37.74961 , 37.79298 , 37.72838 , 37.74961 ,\\n                            37.76355 , 37.73467 , 37.73196 , 37.78553 , 37.79298 , 37.73467 ,\\n                            37.78323 , 37.79101 , 37.73415 , 37.80055 , 37.753311, 37.79101 ,\\n                            37.77951 , 37.72874 , 37.74026 , 37.79298 , 37.7347  , 37.73415 ,\\n                            37.79298 ]),\\n              'legendgroup': '',\\n              'lon': array([-122.4021  , -122.443451, -122.40106 , -122.41098 , -122.44305 ,\\n                            -122.43933 , -122.44517 , -122.48999 , -122.44703 , -122.456   ,\\n                            -122.43579 , -122.43869 , -122.44305 , -122.4021  , -122.42611 ,\\n                            -122.43779 , -122.41098 , -122.4021  , -122.4021  , -122.45509 ,\\n                            -122.44305 , -122.46402 , -122.43596 , -122.43596 , -122.37178 ,\\n                            -122.487068, -122.48707 , -122.41947 , -122.48999 , -122.483566,\\n                            -122.48997 , -122.456   , -122.45457 , -122.45496 , -122.43579 ,\\n                            -122.46689 , -122.46595 , -122.44703 , -122.457   , -122.40065 ,\\n                            -122.42522 , -122.44305 , -122.43579 , -122.44703 , -122.40433 ,\\n                            -122.40433 , -122.46595 , -122.43869 , -122.446   , -122.48357 ,\\n                            -122.48999 , -122.43579 , -122.47851 , -122.48999 , -122.45765 ,\\n                            -122.40106 , -122.38324 , -122.456   , -122.43579 , -122.40106 ,\\n                            -122.40065 , -122.4021  , -122.457   , -122.40433 , -122.447029,\\n                            -122.4021  , -122.42022 , -122.41098 , -122.46388 , -122.43579 ,\\n                            -122.456854, -122.457   , -122.39636 ]),\\n              'marker': {'color': array([2817.28571429, 3031.83333333, 2318.4       , 3739.        ,\\n                                         3080.33333333, 2698.83333333, 2817.28571429, 2817.28571429,\\n                                         2250.5       , 2472.        , 2817.28571429, 2698.83333333,\\n                                         2016.        , 2817.28571429, 2780.25      , 2817.28571429,\\n                                         3031.83333333, 2817.28571429, 2472.        , 1781.5       ,\\n                                         2899.5       , 2601.4       , 2817.28571429, 2817.28571429,\\n                                         2489.        , 2509.        , 2960.        , 2817.28571429,\\n                                         3224.        , 2817.28571429, 2817.28571429, 2817.28571429,\\n                                         2555.16666667, 2555.16666667, 2817.28571429, 2817.28571429,\\n                                         3414.        , 2647.5       , 2155.25      , 2663.66666667,\\n                                         2555.16666667, 3173.4       , 2817.28571429, 2817.28571429,\\n                                         2990.8       , 2818.4       , 2434.        , 2995.75      ,\\n                                         2817.28571429, 2817.28571429, 2817.28571429, 2817.28571429,\\n                                         2817.28571429, 2555.16666667, 2817.28571429, 2318.4       ,\\n                                         2817.28571429, 2817.28571429, 2817.28571429, 3528.        ,\\n                                         2099.        , 2817.28571429, 2899.5       , 2817.28571429,\\n                                         2817.28571429, 2555.16666667, 2817.28571429, 3657.        ,\\n                                         2515.5       , 2555.16666667, 2250.5       , 3959.        ,\\n                                         2555.16666667]),\\n                         'coloraxis': 'coloraxis'},\\n              'mode': 'markers',\\n              'name': '',\\n              'showlegend': False,\\n              'subplot': 'mapbox',\\n              'type': 'scattermapbox'}],\\n    'layout': {'coloraxis': {'colorbar': {'title': {'text': 'gross_rent'}},\\n                             'colorscale': [[0.0, '#0d0887'], [0.1111111111111111,\\n                                            '#46039f'], [0.2222222222222222,\\n                                            '#7201a8'], [0.3333333333333333,\\n                                            '#9c179e'], [0.4444444444444444,\\n                                            '#bd3786'], [0.5555555555555556,\\n                                            '#d8576b'], [0.6666666666666666,\\n                                            '#ed7953'], [0.7777777777777778,\\n                                            '#fb9f3a'], [0.8888888888888888,\\n                                            '#fdca26'], [1.0, '#f0f921']]},\\n               'legend': {'tracegroupgap': 0},\\n               'mapbox': {'accesstoken': ('pk.eyJ1IjoiZW5kYWxrMSIsImEiOiJ' ... 'MHFjIn0.iUhhWIUEsxXNRxSDD7AGwQ'),\\n                          'center': {'lat': 37.76019350684932, 'lon': -122.43912380821916},\\n                          'domain': {'x': [0.0, 1.0], 'y': [0.0, 1.0]},\\n                          'zoom': 8},\\n               'template': '...',\\n               'title': {'text': 'Gross Rent info in SF neighborhood'}}\\n})\"},\"id\":\"1290\",\"type\":\"Select\"},{\"attributes\":{\"child\":{\"id\":\"1290\"},\"name\":\"Welcome\",\"title\":\"Welcome\"},\"id\":\"1291\",\"type\":\"Panel\"},{\"attributes\":{\"margin\":[5,10,5,10],\"options\":[\"Figure({\\n    'data': [{'dimensions': [{'label': 'sale_price_sqr_foot',\\n                              'values': array([903.99325767, 788.84481759, 779.81084226, 689.55581681, 687.08757452,\\n                                               676.50657753, 675.35021205, 665.96404158, 662.01361283, 650.12447919])},\\n                             {'label': 'housing_units',\\n                              'values': array([377427.5 , 380348.  , 375967.25, 378401.  , 382295.  , 378401.  ,\\n                                               378401.  , 378401.  , 378401.  , 375805.  ])},\\n                             {'label': 'gross_rent',\\n                              'values': array([2555.16666667, 3414.        , 2155.25      , 2817.28571429,\\n                                               3959.        , 2817.28571429, 2817.28571429, 2817.28571429,\\n                                               2817.28571429, 2099.        ])}],\\n              'domain': {'x': [0.0, 1.0], 'y': [0.0, 1.0]},\\n              'line': {'color': array([903.99325767, 788.84481759, 779.81084226, 689.55581681, 687.08757452,\\n                                       676.50657753, 675.35021205, 665.96404158, 662.01361283, 650.12447919]),\\n                       'coloraxis': 'coloraxis'},\\n              'name': '',\\n              'type': 'parcoords'}],\\n    'layout': {'coloraxis': {'colorbar': {'title': {'text': 'sale_price_sqr_foot'}},\\n                             'colorscale': [[0.0, '#0d0887'], [0.1111111111111111,\\n                                            '#46039f'], [0.2222222222222222,\\n                                            '#7201a8'], [0.3333333333333333,\\n                                            '#9c179e'], [0.4444444444444444,\\n                                            '#bd3786'], [0.5555555555555556,\\n                                            '#d8576b'], [0.6666666666666666,\\n                                            '#ed7953'], [0.7777777777777778,\\n                                            '#fb9f3a'], [0.8888888888888888,\\n                                            '#fdca26'], [1.0, '#f0f921']]},\\n               'legend': {'tracegroupgap': 0},\\n               'margin': {'t': 60},\\n               'template': '...'}\\n})\",\"Figure({\\n    'data': [{'dimensions': [{'label': 'neighborhood',\\n                              'values': array(['Union Square District', 'Merced Heights', 'Miraloma Park',\\n                                               'Pacific Heights', 'Westwood Park', 'Telegraph Hill',\\n                                               'Presidio Heights', 'Cow Hollow', 'Potrero Hill', 'South Beach'],\\n                                              dtype=object)},\\n                             {'label': 'sale_price_sqr_foot',\\n                              'values': array([903.99325767, 788.84481759, 779.81084226, 689.55581681, 687.08757452,\\n                                               676.50657753, 675.35021205, 665.96404158, 662.01361283, 650.12447919])},\\n                             {'label': 'housing_units',\\n                              'values': array([377427.5 , 380348.  , 375967.25, 378401.  , 382295.  , 378401.  ,\\n                                               378401.  , 378401.  , 378401.  , 375805.  ])},\\n                             {'label': 'gross_rent',\\n                              'values': array([2555.16666667, 3414.        , 2155.25      , 2817.28571429,\\n                                               3959.        , 2817.28571429, 2817.28571429, 2817.28571429,\\n                                               2817.28571429, 2099.        ])}],\\n              'domain': {'x': [0.0, 1.0], 'y': [0.0, 1.0]},\\n              'line': {'color': array([903.99325767, 788.84481759, 779.81084226, 689.55581681, 687.08757452,\\n                                       676.50657753, 675.35021205, 665.96404158, 662.01361283, 650.12447919]),\\n                       'coloraxis': 'coloraxis'},\\n              'name': '',\\n              'type': 'parcats'}],\\n    'layout': {'coloraxis': {'colorbar': {'title': {'text': 'sale_price_sqr_foot'}},\\n                             'colorscale': [[0.0, '#000004'], [0.1111111111111111,\\n                                            '#1b0c41'], [0.2222222222222222,\\n                                            '#4a0c6b'], [0.3333333333333333,\\n                                            '#781c6d'], [0.4444444444444444,\\n                                            '#a52c60'], [0.5555555555555556,\\n                                            '#cf4446'], [0.6666666666666666,\\n                                            '#ed6925'], [0.7777777777777778,\\n                                            '#fb9b06'], [0.8888888888888888,\\n                                            '#f7d13d'], [1.0, '#fcffa4']]},\\n               'legend': {'tracegroupgap': 0},\\n               'margin': {'t': 60},\\n               'template': '...'}\\n})\"],\"title\":\"Parallel Plot Analysis\",\"value\":\"Figure({\\n    'data': [{'dimensions': [{'label': 'sale_price_sqr_foot',\\n                              'values': array([903.99325767, 788.84481759, 779.81084226, 689.55581681, 687.08757452,\\n                                               676.50657753, 675.35021205, 665.96404158, 662.01361283, 650.12447919])},\\n                             {'label': 'housing_units',\\n                              'values': array([377427.5 , 380348.  , 375967.25, 378401.  , 382295.  , 378401.  ,\\n                                               378401.  , 378401.  , 378401.  , 375805.  ])},\\n                             {'label': 'gross_rent',\\n                              'values': array([2555.16666667, 3414.        , 2155.25      , 2817.28571429,\\n                                               3959.        , 2817.28571429, 2817.28571429, 2817.28571429,\\n                                               2817.28571429, 2099.        ])}],\\n              'domain': {'x': [0.0, 1.0], 'y': [0.0, 1.0]},\\n              'line': {'color': array([903.99325767, 788.84481759, 779.81084226, 689.55581681, 687.08757452,\\n                                       676.50657753, 675.35021205, 665.96404158, 662.01361283, 650.12447919]),\\n                       'coloraxis': 'coloraxis'},\\n              'name': '',\\n              'type': 'parcoords'}],\\n    'layout': {'coloraxis': {'colorbar': {'title': {'text': 'sale_price_sqr_foot'}},\\n                             'colorscale': [[0.0, '#0d0887'], [0.1111111111111111,\\n                                            '#46039f'], [0.2222222222222222,\\n                                            '#7201a8'], [0.3333333333333333,\\n                                            '#9c179e'], [0.4444444444444444,\\n                                            '#bd3786'], [0.5555555555555556,\\n                                            '#d8576b'], [0.6666666666666666,\\n                                            '#ed7953'], [0.7777777777777778,\\n                                            '#fb9f3a'], [0.8888888888888888,\\n                                            '#fdca26'], [1.0, '#f0f921']]},\\n               'legend': {'tracegroupgap': 0},\\n               'margin': {'t': 60},\\n               'template': '...'}\\n})\"},\"id\":\"1296\",\"type\":\"Select\"},{\"attributes\":{\"child\":{\"id\":\"1292\"},\"name\":\"Yearly Market analysis\",\"title\":\"Yearly Market analysis\"},\"id\":\"1293\",\"type\":\"Panel\"},{\"attributes\":{\"child\":{\"id\":\"1296\"},\"name\":\"Parallel Plot Analysis\",\"title\":\"Parallel Plot Analysis\"},\"id\":\"1297\",\"type\":\"Panel\"},{\"attributes\":{\"child\":{\"id\":\"1294\"},\"name\":\"Neighborhood Analysis\",\"title\":\"Neighborhood Analysis\"},\"id\":\"1295\",\"type\":\"Panel\"},{\"attributes\":{\"margin\":[5,10,5,10],\"options\":[\"AxesSubplot(0.125,0.125;0.775x0.755)\",\"AxesSubplot(0.125,0.125;0.775x0.755)\",\":Curve   [year]   (sale_price_sqr_foot)\"],\"title\":\"Yearly Market analysis\",\"value\":\"AxesSubplot(0.125,0.125;0.775x0.755)\"},\"id\":\"1292\",\"type\":\"Select\"}],\"root_ids\":[\"1289\",\"1298\"]},\"title\":\"Bokeh Application\",\"version\":\"2.2.3\"}};\n",
       "    var render_items = [{\"docid\":\"ba8a86b7-b8e6-4fc4-ae98-4544bbe47d3b\",\"root_ids\":[\"1289\"],\"roots\":{\"1289\":\"de30dff2-ebff-4a49-ba07-20f8b76fcc2e\"}}];\n",
       "    root.Bokeh.embed.embed_items_notebook(docs_json, render_items);\n",
       "  }\n",
       "  if (root.Bokeh !== undefined && root.Bokeh.Panel !== undefined && root['Plotly'] !== undefined ) {\n",
       "    embed_document(root);\n",
       "  } else {\n",
       "    var attempts = 0;\n",
       "    var timer = setInterval(function(root) {\n",
       "      if (root.Bokeh !== undefined && root.Bokeh.Panel !== undefined && root['Plotly'] !== undefined) {\n",
       "        clearInterval(timer);\n",
       "        embed_document(root);\n",
       "      } else if (document.readyState == \"complete\") {\n",
       "        attempts++;\n",
       "        if (attempts > 100) {\n",
       "          clearInterval(timer);\n",
       "          console.log(\"Bokeh: ERROR: Unable to run BokehJS code because BokehJS library is missing\");\n",
       "        }\n",
       "      }\n",
       "    }, 10, root)\n",
       "  }\n",
       "})(window);</script>"
      ],
      "text/plain": [
       "Tabs\n",
       "    [0] Select(name='Welcome', options=[Figure({\n",
       "    'data': [{'h...], value=Figure({\n",
       "    'data': [{'ho...)\n",
       "    [1] Select(name='Yearly Market analysis', options=[<AxesSubplot:title={'cent...], value=<AxesSubplot:title={'cente...)\n",
       "    [2] Select(name='Neighborhood Analysis', options=[:Bars   [neighborhood]   ...], value=Bars)\n",
       "    [3] Select(name='Parallel Plot Analysis', options=[Figure({\n",
       "    'data': [{'d...], value=Figure({\n",
       "    'data': [{'di...)"
      ]
     },
     "execution_count": 151,
     "metadata": {
      "application/vnd.holoviews_exec.v0+json": {
       "id": "1289"
      }
     },
     "output_type": "execute_result"
    },
    {
     "data": {
      "image/png": "[encoded data removed]",
      "text/plain": [
       "<Figure size 432x288 with 1 Axes>"
      ]
     },
     "metadata": {
      "needs_background": "light"
     },
     "output_type": "display_data"
    },
    {
     "data": {
      "image/png": "[encoded data removed]",
      "text/plain": [
       "<Figure size 432x288 with 1 Axes>"
      ]
     },
     "metadata": {
      "needs_background": "light"
     },
     "output_type": "display_data"
    }
   ],
   "source": [
    "# Add columns to Tab panel\n",
    "tabs = pn.Tabs(\n",
    "    (pn.widgets.Select(name=\"Welcome\",options=[neighborhood_map()])),\n",
    "    (pn.widgets.Select(name=\"Yearly Market analysis\",options=[housing_units_per_year(),average_gross_rent(),average_sales_price()])),\n",
    "    (pn.widgets.Select(name=\"Neighborhood Analysis\",options=[top_most_expensive_neighborhoods(),average_price_by_neighborhood()])),\n",
    "    (pn.widgets.Select(name=\"Parallel Plot Analysis\",options=[parallel_coordinates(),parallel_categories()]))\n",
    ").servable()\n",
    "tabs    "
   ]
  },
  {
   "cell_type": "code",
   "execution_count": null,
   "metadata": {},
   "outputs": [],
   "source": []
  }
 ],
 "metadata": {
  "file_extension": ".py",
  "kernelspec": {
   "display_name": "Python 3",
   "language": "python",
   "name": "python3"
  },
  "language_info": {
   "codemirror_mode": {
    "name": "ipython",
    "version": 3
   },
   "file_extension": ".py",
   "mimetype": "text/x-python",
   "name": "python",
   "nbconvert_exporter": "python",
   "pygments_lexer": "ipython3",
   "version": "3.8.5"
  },
  "mimetype": "text/x-python",
  "name": "python",
  "npconvert_exporter": "python",
  "pygments_lexer": "ipython3",
  "version": 3
 },
 "nbformat": 4,
 "nbformat_minor": 4
}
